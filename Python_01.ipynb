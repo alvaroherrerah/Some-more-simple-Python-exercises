{
 "cells": [
  {
   "cell_type": "code",
   "outputs": [
    {
     "name": "stdout",
     "output_type": "stream",
     "text": [
      "Happy 23rd birthday\n"
     ]
    }
   ],
   "source": [
    "edad = \"Happy \" + str(23) + \"rd birthday\"\n",
    "\n",
    "print(edad)"
   ],
   "metadata": {
    "collapsed": false,
    "ExecuteTime": {
     "end_time": "2024-03-10T19:59:44.948610800Z",
     "start_time": "2024-03-10T19:59:44.895463400Z"
    }
   },
   "id": "ae569375de6e0a53",
   "execution_count": 1
  },
  {
   "cell_type": "markdown",
   "source": [
    "print(9 - 1)\n",
    "print(6 + 2)\n",
    "print(2 * 4)\n",
    "print(16 / 2)"
   ],
   "metadata": {
    "collapsed": false
   },
   "id": "ca09f171cabda719"
  },
  {
   "cell_type": "code",
   "outputs": [
    {
     "name": "stdout",
     "output_type": "stream",
     "text": [
      "Mi número favorito es el: 13\n"
     ]
    }
   ],
   "source": [
    "# Example of str with numbers within int\n",
    "fav_num = \"Mi número favorito es el: \" + str(13)\n",
    "\n",
    "print(fav_num)"
   ],
   "metadata": {
    "collapsed": false,
    "ExecuteTime": {
     "end_time": "2024-03-10T19:59:44.949230900Z",
     "start_time": "2024-03-10T19:59:44.902852400Z"
    }
   },
   "id": "416db72d296f36be",
   "execution_count": 2
  },
  {
   "cell_type": "code",
   "outputs": [
    {
     "name": "stdout",
     "output_type": "stream",
     "text": [
      "The Zen of Python, by Tim Peters\n",
      "\n",
      "Beautiful is better than ugly.\n",
      "Explicit is better than implicit.\n",
      "Simple is better than complex.\n",
      "Complex is better than complicated.\n",
      "Flat is better than nested.\n",
      "Sparse is better than dense.\n",
      "Readability counts.\n",
      "Special cases aren't special enough to break the rules.\n",
      "Although practicality beats purity.\n",
      "Errors should never pass silently.\n",
      "Unless explicitly silenced.\n",
      "In the face of ambiguity, refuse the temptation to guess.\n",
      "There should be one-- and preferably only one --obvious way to do it.\n",
      "Although that way may not be obvious at first unless you're Dutch.\n",
      "Now is better than never.\n",
      "Although never is often better than *right* now.\n",
      "If the implementation is hard to explain, it's a bad idea.\n",
      "If the implementation is easy to explain, it may be a good idea.\n",
      "Namespaces are one honking great idea -- let's do more of those!\n"
     ]
    }
   ],
   "source": [
    "import this"
   ],
   "metadata": {
    "collapsed": false,
    "ExecuteTime": {
     "end_time": "2024-03-10T19:59:44.950228300Z",
     "start_time": "2024-03-10T19:59:44.906338Z"
    }
   },
   "id": "cc899d0b640f48b6",
   "execution_count": 3
  },
  {
   "cell_type": "code",
   "outputs": [
    {
     "name": "stdout",
     "output_type": "stream",
     "text": [
      "Hola\n",
      "9\n",
      "Y dije: HOLA al cabrón de Manuel\n"
     ]
    }
   ],
   "source": [
    "numeros = [1,\"hola\",3,4,5,6,7,8,9]\n",
    "\n",
    "print(numeros[1].title())\n",
    "print(numeros[-1])\n",
    "\n",
    "message = \"Y dije: \" + numeros[1].upper() + \" al cabrón de Manuel\"\n",
    "print(message)"
   ],
   "metadata": {
    "collapsed": false,
    "ExecuteTime": {
     "end_time": "2024-03-10T19:59:44.951228600Z",
     "start_time": "2024-03-10T19:59:44.913671Z"
    }
   },
   "id": "ad4bd2df703a7fa1",
   "execution_count": 4
  },
  {
   "cell_type": "code",
   "outputs": [
    {
     "name": "stdout",
     "output_type": "stream",
     "text": [
      "[1, 'hola', 3, 4, 5, 6, 7, 8, 9, 8]\n"
     ]
    }
   ],
   "source": [
    "numeros = [1, \"hola\", 3, 4, 5, 6, 7, 8, 9, 8]\n",
    "print(numeros)"
   ],
   "metadata": {
    "collapsed": false,
    "ExecuteTime": {
     "end_time": "2024-03-10T19:59:45.006659600Z",
     "start_time": "2024-03-10T19:59:44.919992300Z"
    }
   },
   "id": "b5f9f2e2d674d66a",
   "execution_count": 5
  },
  {
   "cell_type": "code",
   "outputs": [
    {
     "name": "stdout",
     "output_type": "stream",
     "text": [
      "[10, 1, 'hola', 3, 4, 5, 6, 7, 8, 9]\n"
     ]
    }
   ],
   "source": [
    "numeros = [1,\"hola\",3,4,5,6,7,8,9]\n",
    "numeros.insert(0, 10)\n",
    "print(numeros)"
   ],
   "metadata": {
    "collapsed": false,
    "ExecuteTime": {
     "end_time": "2024-03-10T19:59:45.007660800Z",
     "start_time": "2024-03-10T19:59:44.924829100Z"
    }
   },
   "id": "284c46e35996341d",
   "execution_count": 6
  },
  {
   "cell_type": "code",
   "outputs": [
    {
     "name": "stdout",
     "output_type": "stream",
     "text": [
      "['hola', 3, 4, 5, 6, 7, 8, 9]\n",
      "3\n"
     ]
    }
   ],
   "source": [
    "numeros = [1,\"hola\",3,4,5,6,7,8,9]\n",
    "\n",
    "del numeros[0]\n",
    "print(numeros)\n",
    "print(numeros[1])"
   ],
   "metadata": {
    "collapsed": false,
    "ExecuteTime": {
     "end_time": "2024-03-10T19:59:45.008660700Z",
     "start_time": "2024-03-10T19:59:44.927824300Z"
    }
   },
   "id": "3bf2c2d0b5c5e4f4",
   "execution_count": 7
  },
  {
   "cell_type": "code",
   "outputs": [
    {
     "name": "stdout",
     "output_type": "stream",
     "text": [
      "hola\n",
      "[1, 3, 4, 5, 6, 7, 8, 9]\n"
     ]
    }
   ],
   "source": [
    "numeros = [1,\"hola\",3,4,5,6,7,8,9]\n",
    "\n",
    "numeros_pop = numeros.pop(1)\n",
    "print(numeros_pop)\n",
    "print(numeros)"
   ],
   "metadata": {
    "collapsed": false,
    "ExecuteTime": {
     "end_time": "2024-03-10T19:59:45.008660700Z",
     "start_time": "2024-03-10T19:59:44.932331200Z"
    }
   },
   "id": "4aae59f9c31262bc",
   "execution_count": 8
  },
  {
   "cell_type": "code",
   "outputs": [
    {
     "name": "stdout",
     "output_type": "stream",
     "text": [
      "[1, 3, 4, 5, 6, 7, 8, 9]\n"
     ]
    }
   ],
   "source": [
    "numeros = [1,\"hola\",3,4,5,6,7,8,9]\n",
    "\n",
    "numeros.remove(\"hola\")\n",
    "print(numeros)"
   ],
   "metadata": {
    "collapsed": false,
    "ExecuteTime": {
     "end_time": "2024-03-10T19:59:45.009661300Z",
     "start_time": "2024-03-10T19:59:44.936572400Z"
    }
   },
   "id": "1785a199cecbcd72",
   "execution_count": 9
  },
  {
   "cell_type": "code",
   "outputs": [
    {
     "name": "stdout",
     "output_type": "stream",
     "text": [
      "['honda', 'suzuki', 'ducati']\n",
      "Me gustan las: yamaha\n"
     ]
    }
   ],
   "source": [
    "motorcycles = ['honda', 'yamaha', 'suzuki', 'ducati']\n",
    "motorola = \"yamaha\"\n",
    "motorcycles.remove(motorola)\n",
    "\n",
    "print(motorcycles)\n",
    "print(\"Me gustan las: \" + motorola)\n"
   ],
   "metadata": {
    "collapsed": false,
    "ExecuteTime": {
     "end_time": "2024-03-10T19:59:45.009661300Z",
     "start_time": "2024-03-10T19:59:44.941609600Z"
    }
   },
   "id": "b3a2a6829368dc0c",
   "execution_count": 10
  },
  {
   "cell_type": "code",
   "outputs": [
    {
     "name": "stdout",
     "output_type": "stream",
     "text": [
      "Me gusta la honda porque si.\n",
      "Me gusta la yamaha porque si.\n",
      "Me gusta la suzuki porque si.\n"
     ]
    }
   ],
   "source": [
    "motorcycles = ['honda', 'yamaha', 'suzuki']\n",
    "\n",
    "print(\"Me gusta la \" + motorcycles[0] + \" porque si.\\n\" + \n",
    "      \"Me gusta la \" + motorcycles[1] + \" porque si.\\n\" + \n",
    "      \"Me gusta la \" + motorcycles[2] + \" porque si.\")\n"
   ],
   "metadata": {
    "collapsed": false,
    "ExecuteTime": {
     "end_time": "2024-03-10T19:59:45.011661700Z",
     "start_time": "2024-03-10T19:59:44.945610700Z"
    }
   },
   "id": "28aa3b86868628f1",
   "execution_count": 11
  },
  {
   "cell_type": "code",
   "outputs": [
    {
     "name": "stdout",
     "output_type": "stream",
     "text": [
      "Me gusta la Honda porque si.\n",
      "Me gusta la Yamaha porque si.\n",
      "Me gusta la Ducati porque si.\n",
      "Suzuki no es buena.\n"
     ]
    }
   ],
   "source": [
    "motorcycles_new = motorcycles\n",
    "moto = motorcycles_new.pop(2)\n",
    "motorcycles_new.insert(2, \"ducati\")\n",
    "# otra versión sería: motorcycles_new.append(\"ducati\")\n",
    "\n",
    "print(f\"Me gusta la {motorcycles_new[0].title()} porque si.\\n\" \n",
    "      f\"Me gusta la {motorcycles_new[1].title()} porque si.\\n\"  \n",
    "      f\"Me gusta la {motorcycles_new[2].title()} porque si.\\n\"\n",
    "      f\"{moto.title()} no es buena.\")"
   ],
   "metadata": {
    "collapsed": false,
    "ExecuteTime": {
     "end_time": "2024-03-10T19:59:45.022664400Z",
     "start_time": "2024-03-10T19:59:44.953229800Z"
    }
   },
   "id": "203ac888323b17dc",
   "execution_count": 12
  },
  {
   "cell_type": "code",
   "outputs": [
    {
     "name": "stdout",
     "output_type": "stream",
     "text": [
      "['honda']\n"
     ]
    }
   ],
   "source": [
    "motorcycles = ['honda', 'yamaha', 'suzuki', 'ducati']\n",
    "\n",
    "moto_1 = motorcycles.pop(1)\n",
    "moto_2 = motorcycles.pop(1)\n",
    "moto_3 = motorcycles.pop(1)\n",
    "\n",
    "print(motorcycles)\n",
    "\n"
   ],
   "metadata": {
    "collapsed": false,
    "ExecuteTime": {
     "end_time": "2024-03-10T19:59:45.023664Z",
     "start_time": "2024-03-10T19:59:44.955981800Z"
    }
   },
   "id": "7e8ed314dbf9701",
   "execution_count": 13
  },
  {
   "cell_type": "code",
   "outputs": [
    {
     "name": "stdout",
     "output_type": "stream",
     "text": [
      "['audi', 'bmw', 'subaru', 'toyota']\n",
      "['toyota', 'subaru', 'bmw', 'audi']\n"
     ]
    }
   ],
   "source": [
    "cars = ['bmw', 'audi', 'toyota', 'subaru']\n",
    "\n",
    "cars.sort()\n",
    "print(cars)\n",
    "\n",
    "cars.sort(reverse=True)\n",
    "print(cars)\n"
   ],
   "metadata": {
    "collapsed": false,
    "ExecuteTime": {
     "end_time": "2024-03-10T19:59:45.024663700Z",
     "start_time": "2024-03-10T19:59:44.962072600Z"
    }
   },
   "id": "4cf25cd26909b8e5",
   "execution_count": 14
  },
  {
   "cell_type": "code",
   "outputs": [
    {
     "name": "stdout",
     "output_type": "stream",
     "text": [
      "['audi', 'bmw', 'subaru', 'toyota']\n",
      "['bmw', 'audi', 'toyota', 'subaru']\n"
     ]
    }
   ],
   "source": [
    "cars = ['bmw', 'audi', 'toyota', 'subaru']\n",
    "print (sorted (cars))\n",
    "\n",
    "print (cars)\n"
   ],
   "metadata": {
    "collapsed": false,
    "ExecuteTime": {
     "end_time": "2024-03-10T19:59:45.025664Z",
     "start_time": "2024-03-10T19:59:44.966124400Z"
    }
   },
   "id": "d7573630a82e3de1",
   "execution_count": 15
  },
  {
   "cell_type": "code",
   "outputs": [
    {
     "name": "stdout",
     "output_type": "stream",
     "text": [
      "['subaru', 'toyota', 'audi', 'bmw']\n"
     ]
    },
    {
     "data": {
      "text/plain": "4"
     },
     "execution_count": 16,
     "metadata": {},
     "output_type": "execute_result"
    }
   ],
   "source": [
    "cars.reverse()\n",
    "print(cars)\n",
    "len(cars)"
   ],
   "metadata": {
    "collapsed": false,
    "ExecuteTime": {
     "end_time": "2024-03-10T19:59:45.129793400Z",
     "start_time": "2024-03-10T19:59:44.970514100Z"
    }
   },
   "id": "fb4d4c8adb70e636",
   "execution_count": 16
  }
 ],
 "metadata": {
  "kernelspec": {
   "display_name": "Python 3",
   "language": "python",
   "name": "python3"
  },
  "language_info": {
   "codemirror_mode": {
    "name": "ipython",
    "version": 2
   },
   "file_extension": ".py",
   "mimetype": "text/x-python",
   "name": "python",
   "nbconvert_exporter": "python",
   "pygments_lexer": "ipython2",
   "version": "2.7.6"
  }
 },
 "nbformat": 4,
 "nbformat_minor": 5
}
