{
 "cells": [
  {
   "cell_type": "code",
   "execution_count": 1,
   "id": "initial_id",
   "metadata": {
    "collapsed": true,
    "ExecuteTime": {
     "end_time": "2024-03-10T21:22:32.967537900Z",
     "start_time": "2024-03-10T21:22:32.960510Z"
    }
   },
   "outputs": [
    {
     "name": "stdout",
     "output_type": "stream",
     "text": [
      "alice\n",
      "david\n",
      "carolina\n"
     ]
    }
   ],
   "source": [
    "magicians = ['alice', 'david', 'carolina']\n",
    "\n",
    "for magician in magicians: \n",
    "      print(magician)"
   ]
  },
  {
   "cell_type": "code",
   "outputs": [
    {
     "name": "stdout",
     "output_type": "stream",
     "text": [
      "El mago se llama: Alice\n",
      "Looking forward to work with you, Alice\n",
      "\n",
      "El mago se llama: David\n",
      "Looking forward to work with you, David\n",
      "\n",
      "El mago se llama: Carolina\n",
      "Looking forward to work with you, Carolina\n",
      "\n",
      "THANK YOU ALL FOR YOUR TIME\n"
     ]
    }
   ],
   "source": [
    "magicians = ['alice', 'david', 'carolina']\n",
    "\n",
    "for magician in magicians: \n",
    "      print(\"El mago se llama: \"+ magician.title())\n",
    "      print(\"Looking forward to work with you, \" + magician.title() +\"\\n\")\n",
    "      \n",
    "print(\"Thank you all for your time\".upper())"
   ],
   "metadata": {
    "collapsed": false,
    "ExecuteTime": {
     "end_time": "2024-03-10T21:22:39.973425100Z",
     "start_time": "2024-03-10T21:22:39.962592900Z"
    }
   },
   "id": "3097e86aa8e11c66",
   "execution_count": 14
  },
  {
   "cell_type": "code",
   "outputs": [
    {
     "name": "stdout",
     "output_type": "stream",
     "text": [
      "1\n",
      "2\n",
      "3\n",
      "4\n",
      "5\n"
     ]
    }
   ],
   "source": [
    "for value in range(1,6):\n",
    "    print(value)"
   ],
   "metadata": {
    "collapsed": false,
    "ExecuteTime": {
     "end_time": "2024-03-10T21:22:32.980489400Z",
     "start_time": "2024-03-10T21:22:32.973361Z"
    }
   },
   "id": "630d0388fb8805f8",
   "execution_count": 3
  },
  {
   "cell_type": "code",
   "outputs": [
    {
     "name": "stdout",
     "output_type": "stream",
     "text": [
      "[1, 2, 3, 4, 5, 6, 7, 8, 9, 10]\n"
     ]
    }
   ],
   "source": [
    "message = list(range(1,11))\n",
    "print(message)"
   ],
   "metadata": {
    "collapsed": false,
    "ExecuteTime": {
     "end_time": "2024-03-10T21:22:32.984069900Z",
     "start_time": "2024-03-10T21:22:32.980489400Z"
    }
   },
   "id": "845bbae3a0e7c2d5",
   "execution_count": 4
  },
  {
   "cell_type": "code",
   "outputs": [
    {
     "name": "stdout",
     "output_type": "stream",
     "text": [
      "[2, 4, 6, 8, 10, 12]\n"
     ]
    }
   ],
   "source": [
    "message = list(range(2,13, 2))\n",
    "print(message)"
   ],
   "metadata": {
    "collapsed": false,
    "ExecuteTime": {
     "end_time": "2024-03-10T21:22:32.995415900Z",
     "start_time": "2024-03-10T21:22:32.985130400Z"
    }
   },
   "id": "77de0619957e6e3d",
   "execution_count": 5
  },
  {
   "cell_type": "code",
   "outputs": [
    {
     "name": "stdout",
     "output_type": "stream",
     "text": [
      "[1, 4, 9, 16, 25, 36, 49, 64, 81, 100]\n"
     ]
    }
   ],
   "source": [
    "cuadrados = []\n",
    "\n",
    "for value in range(1,11):\n",
    "    cuadrados.append(value**2) \n",
    "\n",
    "print(cuadrados)\n"
   ],
   "metadata": {
    "collapsed": false,
    "ExecuteTime": {
     "end_time": "2024-03-10T21:22:33.039304900Z",
     "start_time": "2024-03-10T21:22:32.989634500Z"
    }
   },
   "id": "1d42d526626020a6",
   "execution_count": 6
  },
  {
   "cell_type": "code",
   "outputs": [
    {
     "name": "stdout",
     "output_type": "stream",
     "text": [
      "0\n",
      "100\n"
     ]
    },
    {
     "data": {
      "text/plain": "5050"
     },
     "execution_count": 7,
     "metadata": {},
     "output_type": "execute_result"
    }
   ],
   "source": [
    "lista = list(range(0,101))\n",
    "\n",
    "print(min(lista))\n",
    "print(max(lista))\n",
    "sum(lista)\n"
   ],
   "metadata": {
    "collapsed": false,
    "ExecuteTime": {
     "end_time": "2024-03-10T21:22:33.040321500Z",
     "start_time": "2024-03-10T21:22:32.994416300Z"
    }
   },
   "id": "21acc5117aaeca31",
   "execution_count": 7
  },
  {
   "cell_type": "code",
   "outputs": [
    {
     "name": "stdout",
     "output_type": "stream",
     "text": [
      "[1, 4, 9, 16, 25, 36, 49, 64, 81, 100]\n"
     ]
    }
   ],
   "source": [
    "cuadrados = [value**2 for value in range(1,11)]\n",
    "print(cuadrados)"
   ],
   "metadata": {
    "collapsed": false,
    "ExecuteTime": {
     "end_time": "2024-03-10T21:22:33.040321500Z",
     "start_time": "2024-03-10T21:22:33.001828300Z"
    }
   },
   "id": "39ffd6868d325c70",
   "execution_count": 8
  },
  {
   "cell_type": "code",
   "outputs": [
    {
     "name": "stdout",
     "output_type": "stream",
     "text": [
      "['michael', 'florence', 'eli']\n"
     ]
    }
   ],
   "source": [
    "players = ['charles', 'martina', 'michael', 'florence', 'eli']\n",
    "print(players[-3:])"
   ],
   "metadata": {
    "collapsed": false,
    "ExecuteTime": {
     "end_time": "2024-03-10T21:22:33.041321300Z",
     "start_time": "2024-03-10T21:22:33.005327400Z"
    }
   },
   "id": "44a6f7e3372ff57c",
   "execution_count": 9
  },
  {
   "cell_type": "code",
   "outputs": [
    {
     "name": "stdout",
     "output_type": "stream",
     "text": [
      "charles\n",
      "martina\n",
      "michael\n"
     ]
    }
   ],
   "source": [
    "players = ['charles', 'martina', 'michael', 'florence', 'eli']\n",
    "\n",
    "for player in players[0:3]:\n",
    "    print(player)"
   ],
   "metadata": {
    "collapsed": false,
    "ExecuteTime": {
     "end_time": "2024-03-10T21:22:33.042351300Z",
     "start_time": "2024-03-10T21:22:33.012253400Z"
    }
   },
   "id": "8f362a6408a54191",
   "execution_count": 10
  },
  {
   "cell_type": "code",
   "outputs": [
    {
     "name": "stdout",
     "output_type": "stream",
     "text": [
      "['charles', 'martina', 'michael', 'florence', 'eli', 'Juan']\n",
      "['charles', 'martina', 'michael', 'florence', 'eli', 'Manolo']\n"
     ]
    }
   ],
   "source": [
    "players = ['charles', 'martina', 'michael', 'florence', 'eli']\n",
    "# playy cambiará siempre que lo haga players\n",
    "# playy = players\n",
    "playy = players[:]\n",
    "\n",
    "playy.append(\"Manolo\")\n",
    "players.append(\"Juan\")\n",
    "\n",
    "print(players)\n",
    "print(playy)"
   ],
   "metadata": {
    "collapsed": false,
    "ExecuteTime": {
     "end_time": "2024-03-10T21:22:33.109998100Z",
     "start_time": "2024-03-10T21:22:33.015381400Z"
    }
   },
   "id": "47aadbf3419770d",
   "execution_count": 11
  },
  {
   "cell_type": "code",
   "outputs": [
    {
     "name": "stdout",
     "output_type": "stream",
     "text": [
      "['charles', 'martina', 'michael', 'florence', 'eli']\n"
     ]
    }
   ],
   "source": [
    "players = ['charles', 'martina', 'michael', 'florence', 'eli']\n",
    "\n",
    "# sinónimo de players[:]\n",
    "lista_p = [value for value in players]\n",
    "print(lista_p)\n"
   ],
   "metadata": {
    "collapsed": false,
    "ExecuteTime": {
     "end_time": "2024-03-10T21:22:33.111021200Z",
     "start_time": "2024-03-10T21:22:33.023405300Z"
    }
   },
   "id": "3863e8f0b47084a2",
   "execution_count": 12
  },
  {
   "cell_type": "code",
   "outputs": [
    {
     "name": "stdout",
     "output_type": "stream",
     "text": [
      "200\n",
      "50\n"
     ]
    }
   ],
   "source": [
    "dimensiones = (200, 50)\n",
    "\n",
    "print(dimensiones[0])\n",
    "print(dimensiones[1])"
   ],
   "metadata": {
    "collapsed": false,
    "ExecuteTime": {
     "end_time": "2024-03-10T21:22:33.111021200Z",
     "start_time": "2024-03-10T21:22:33.029482700Z"
    }
   },
   "id": "202385bc8990828f",
   "execution_count": 13
  }
 ],
 "metadata": {
  "kernelspec": {
   "display_name": "Python 3",
   "language": "python",
   "name": "python3"
  },
  "language_info": {
   "codemirror_mode": {
    "name": "ipython",
    "version": 2
   },
   "file_extension": ".py",
   "mimetype": "text/x-python",
   "name": "python",
   "nbconvert_exporter": "python",
   "pygments_lexer": "ipython2",
   "version": "2.7.6"
  }
 },
 "nbformat": 4,
 "nbformat_minor": 5
}
